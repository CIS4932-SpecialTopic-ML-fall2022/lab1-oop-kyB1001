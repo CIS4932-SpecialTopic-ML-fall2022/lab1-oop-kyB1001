{
 "cells": [
  {
   "cell_type": "markdown",
   "metadata": {},
   "source": [
    "## LAB-001"
   ]
  },
  {
   "cell_type": "markdown",
   "metadata": {},
   "source": [
    "###### Create a Python class called BankAccount which represents a bank account \n",
    "###### Attributes: accountNumber (numeric type),name (name of the account owner as string type, balance. "
   ]
  },
  {
   "cell_type": "code",
   "execution_count": 3,
   "metadata": {},
   "outputs": [],
   "source": [
    "\n",
    "import math as math\n",
    "import numpy as np\n",
    "import sys\n",
    "import time\n",
    "\n",
    "class BankAccount:\n",
    "        \n",
    "    # Create a constructor with parameters: accountNumber, name, balance. (20 pts)     \n",
    "    def __init__(self, accountNumber, name, balance):\n",
    "        self.accountNumber = accountNumber\n",
    "        self.name = name\n",
    "        self.balance = balance\n",
    "        \n",
    "    #  Create a Deposit() method which manages the deposit actions. (10 pts) \n",
    "    \n",
    "    def Deposit(self):\n",
    "        cont = int(input(\"Enter 1: Deposit Money\\nEnter 2: Cancel\\n\"))\n",
    "        \n",
    "        if cont == 1:\n",
    "            deposit = input(\"Enter the Deposit amount:  \")\n",
    "            deposit = float(deposit)\n",
    "            self.balance = self.balance + deposit\n",
    "            print(\"Your deoposit has been made!\\nYour account balance is {:.2f} \".format(self.balance))\n",
    "\n",
    "        elif cont == 2:\n",
    "                print(\"Thank you for choosing to bank with Royalty Banking!\") \n",
    "  \n",
    "        else:\n",
    "            print(\"Invalid Input\")  \n",
    "                        \n",
    "            \n",
    "    \n",
    "    # Create a Withdrawal() method  which manages withdrawals actions. (10 pts) \n",
    "    def Widthdrawl(self):\n",
    "        cont = int(input(\"Enter 1: Withdrawal Money\\nEnter 2: Cancel\\n\"))\n",
    "        \n",
    "        if cont == 1:\n",
    "            while True:\n",
    "                withdrawal = input(\"Enter the Withdrawal amount:  \")\n",
    "                withdrawal = float(withdrawal)\n",
    "                \n",
    "                if(withdrawal > self.balance):\n",
    "                    print(\"Insufficient Funds\\n Available account balance {:.2f}\\n\".format(self.balance))\n",
    "                else:\n",
    "                    self.balance = self.balance - withdrawal\n",
    "                    print(\"Your widthdrawl has been succesfully made!\\nYour account balance is {:.2f}\\n\".format(self.balance))\n",
    "                    break\n",
    "\n",
    "        elif cont == 2:\n",
    "                print(\"Thank you for choosing to bank with Royalty Banking!\") \n",
    "  \n",
    "        else:\n",
    "            print(\"Invalid Input\")  \n",
    "                   \n",
    "    # Create an bankFees() method to apply the bank fees with a percentage of 5% of the balance account. (10 pts) \n",
    "    def bankFees(self):\n",
    "        fees = self.balance * .05 \n",
    "        print(\"Your current Bank Fee is: {:.2f}\\n\".format(fees))\n",
    "    \n",
    "    # Create a display() method to display account details. (10 pts)    \n",
    "    def Display(self):\n",
    "        print(\"Account Information:\\n\")\n",
    "        print(\" Account Number: {}\\n Account Owener: {}\\n Account Balance:5 {}\\n\".format(self.accountNumber,self.name,self.balance))\n",
    "    \n"
   ]
  },
  {
   "cell_type": "code",
   "execution_count": 4,
   "metadata": {},
   "outputs": [
    {
     "name": "stdout",
     "output_type": "stream",
     "text": [
      "Hello RaCaria Burgess...\n",
      "\n",
      "Firstly, Royalty Banking hopes that all is well...\n",
      "\n",
      "To protect your identitiy\n",
      "\n",
      "Invalid Input\n",
      "Your deoposit has been made!\n",
      "Your account balance is 10111111.00 \n",
      "Your current Bank Fee is: 505555.55\n",
      "\n",
      "Invalid Input\n",
      "Invalid Input\n",
      "Your widthdrawl has been succesfully made!\n",
      "Your account balance is 9888889.00\n",
      "\n",
      "Thank you for choosing to bank with Royalty Banking!\n",
      "\n"
     ]
    }
   ],
   "source": [
    "if __name__ == \"__main__\":\n",
    "   \n",
    "    accountInfo = BankAccount(1235432,\"RaCaria Burgess\",10000000)\n",
    "    \n",
    "    print(\"Hello {}...\\n\".format(accountInfo.name))\n",
    "    time.sleep(1)\n",
    "    print(\"Firstly, Royalty Banking hopes that all is well...\\n\")  \n",
    "    time.sleep(1)\n",
    "    print(\"To protect your identitiy\\n\")  \n",
    "    time.sleep(1)    \n",
    "    verification = int(input(\"Please Confirm your Account Numer:  \"))\n",
    "   \n",
    "    select = 0\n",
    "    if(accountInfo.accountNumber == verification):\n",
    "            \n",
    "        while True: \n",
    "            select = input(\"Please select from the following options:\\n Enter 1: To Make a Deposit\\n Enter 2: To Make a Widthdrawl\\n Enter 3: To View Bankfees\\n Enter 4: To View Account Details\\n Enter 5: To Exit\\n\")\n",
    "            select = int(select)\n",
    "            \n",
    "            if select == 1: #Enter 1: To Make a Deposit  \n",
    "                accountInfo.Deposit()\n",
    "            \n",
    "            elif select == 2: # Enter 2: To Make a Widthdrawl\n",
    "                accountInfo.Widthdrawl()\n",
    "                \n",
    "            elif select == 3: # Enter 3: To View Bankfees\n",
    "                accountInfo.bankFees()\n",
    "                \n",
    "            elif select == 4: # Enter 4: To View Account Details\n",
    "                accountInfo.Display()\n",
    "\n",
    "            elif select == 5: # Enter 5: To Exit              \n",
    "                break\n",
    "            \n",
    "            else:\n",
    "                print(\"Invalid Entry\\n\")\n",
    "        \n",
    "        print(\"Thank you for choosing to bank with Royalty Banking!\\n\")  \n",
    "         \n",
    "    else:\n",
    "      print(\"Sorry, we cannot validate your account number. Have a Beautiful Day!\\n\")  \n",
    "      \n"
   ]
  }
 ],
 "metadata": {
  "kernelspec": {
   "display_name": "Python 3.10.6 64-bit",
   "language": "python",
   "name": "python3"
  },
  "language_info": {
   "codemirror_mode": {
    "name": "ipython",
    "version": 3
   },
   "file_extension": ".py",
   "mimetype": "text/x-python",
   "name": "python",
   "nbconvert_exporter": "python",
   "pygments_lexer": "ipython3",
   "version": "3.10.6"
  },
  "orig_nbformat": 4,
  "vscode": {
   "interpreter": {
    "hash": "fb4569285eef3a3450cb62085a5b1e0da4bce0af555edc33dcf29baf3acc1368"
   }
  }
 },
 "nbformat": 4,
 "nbformat_minor": 2
}
